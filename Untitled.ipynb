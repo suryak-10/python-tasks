{
 "cells": [
  {
   "cell_type": "code",
   "execution_count": 2,
   "id": "f13d7ecd-2369-4662-be03-02d539648b37",
   "metadata": {},
   "outputs": [
    {
     "name": "stdout",
     "output_type": "stream",
     "text": [
      "[13, 5, 6, 8, [24, 6, 3, 64, [1, 5, [1, [1, 2, [2, 4, 3]], 2, 4], 6], 93, 6, 3], 95, 3, 3]\n",
      "13 in level 0\n",
      "5 in level 0\n",
      "6 in level 0\n",
      "8 in level 0\n",
      "24 in level 1\n",
      "6 in level 1\n",
      "3 in level 1\n",
      "64 in level 1\n",
      "1 in level 2\n",
      "5 in level 2\n",
      "1 in level 3\n",
      "1 in level 4\n",
      "2 in level 4\n",
      "2 in level 5\n",
      "4 in level 5\n",
      "3 in level 5\n",
      "2 in level 3\n",
      "4 in level 3\n",
      "6 in level 2\n",
      "93 in level 1\n",
      "6 in level 1\n",
      "3 in level 1\n",
      "95 in level 0\n",
      "3 in level 0\n",
      "3 in level 0\n"
     ]
    }
   ],
   "source": [
    "nums = [13, 5, 6, 8, [24, 6, 3, 64,[1,5, [1, [1, 2, [2, 4, 3, ]],  2, 4], 6], 93,6,3], 95, 3, 3, ]\n",
    "print(nums)\n",
    "\n",
    "def print_list(elements, level):\n",
    "    for element in elements:\n",
    "        if type(element) == list:\n",
    "            print_list(element, level+1)\n",
    "        else:\n",
    "            print(f\"{element} in level {level}\")\n",
    "\n",
    "print_list(nums, 0)"
   ]
  }
 ],
 "metadata": {
  "kernelspec": {
   "display_name": "Python 3 (ipykernel)",
   "language": "python",
   "name": "python3"
  },
  "language_info": {
   "codemirror_mode": {
    "name": "ipython",
    "version": 3
   },
   "file_extension": ".py",
   "mimetype": "text/x-python",
   "name": "python",
   "nbconvert_exporter": "python",
   "pygments_lexer": "ipython3",
   "version": "3.13.1"
  }
 },
 "nbformat": 4,
 "nbformat_minor": 5
}
